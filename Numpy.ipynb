{
 "cells": [
  {
   "cell_type": "markdown",
   "metadata": {},
   "source": [
    "# Introducción al uso de numpy\n",
    "\n",
    "En primer logar para usar numpy es necesario importarla, para ello usar el siguiente comando,\n",
    "`import numpy as np`\n",
    "\n",
    "## Cración de vectores\n",
    "En primer lugar veamos como crear un vector en Numpy de una dimensión"
   ]
  },
  {
   "cell_type": "code",
   "execution_count": 1,
   "metadata": {},
   "outputs": [
    {
     "name": "stdout",
     "output_type": "stream",
     "text": [
      "[1 2 3]\n",
      "(3,)\n",
      "2\n"
     ]
    }
   ],
   "source": [
    "import numpy as np\n",
    "\n",
    "V1D = np.array([1, 2, 3]) #Creación de un vector de 1D\n",
    "print (V1D) #Pintar el vector\n",
    "print(V1D.shape) #Tamaño del vector\n",
    "print(V1D[1]) #Acceder a un elemento del vector"
   ]
  },
  {
   "cell_type": "markdown",
   "metadata": {},
   "source": [
    "A continuación crearemos un vector de dos dimensiones o una matriz"
   ]
  },
  {
   "cell_type": "code",
   "execution_count": 2,
   "metadata": {},
   "outputs": [
    {
     "name": "stdout",
     "output_type": "stream",
     "text": [
      "[[1 2 3]\n",
      " [4 5 6]]\n",
      "(2, 3)\n",
      "2\n"
     ]
    }
   ],
   "source": [
    "V2D = np.array([[1,2,3],[4,5,6]]) #Creación de un vector de 2D\n",
    "print (V2D) #Pintar el vector\n",
    "print(V2D.shape) #Tamaño del vector\n",
    "print(V2D[0, 1]) #Acceder a un elemento del vector  "
   ]
  },
  {
   "cell_type": "markdown",
   "metadata": {},
   "source": [
    "## Funciones para creación\n",
    "Numpy ofrece diversas funciones para crear Array multidimensional, entre las que cabe destacar:\n",
    "- **Vector de zeros**: se crea un vector con ceros en todas sus posiciones `np.zeros((filas,columnas))`\n",
    "- **Vector de unos**: se crea un vector con unos en todas sus posiciones `np.ones((filas,columnas))`\n",
    "- **Vector con una constante**: se crea un vector con una constante en todas sus posiciones `np.full((filas,columnas), constante)`\n",
    "- **Identidad**: creación de una matriz identidad `np.eye(tamaño)`\n",
    "- **Aleatorio**: creación de un vector con elementos aleatorios `np.random.random(filas, columnas)`\n",
    "\n",
    "Esta son solo algunas de las operaciones, se pueden realizar muchas más que puedes ver en la documentación de numpy"
   ]
  },
  {
   "cell_type": "code",
   "execution_count": 3,
   "metadata": {},
   "outputs": [
    {
     "name": "stdout",
     "output_type": "stream",
     "text": [
      "[[0. 0.]\n",
      " [0. 0.]\n",
      " [0. 0.]]\n",
      "[[1. 1. 1.]\n",
      " [1. 1. 1.]\n",
      " [1. 1. 1.]]\n",
      "[[10 10 10]\n",
      " [10 10 10]\n",
      " [10 10 10]]\n",
      "[[1. 0. 0. 0.]\n",
      " [0. 1. 0. 0.]\n",
      " [0. 0. 1. 0.]\n",
      " [0. 0. 0. 1.]]\n",
      "[[0.41845648 0.40647661 0.48805853 0.56384593 0.31842519 0.55099764\n",
      "  0.48416428 0.50369421 0.31398026 0.56966602]\n",
      " [0.15221197 0.35612668 0.66617418 0.5428179  0.75084135 0.76628791\n",
      "  0.54809788 0.68776493 0.93911162 0.33152057]\n",
      " [0.39526244 0.31399045 0.26181188 0.28114634 0.74283739 0.01844223\n",
      "  0.59074327 0.49411828 0.40307135 0.38713273]\n",
      " [0.07692341 0.68194901 0.13526766 0.40788278 0.02102993 0.76543139\n",
      "  0.34208774 0.05473228 0.93044347 0.51999817]\n",
      " [0.46759369 0.13461635 0.47042423 0.30071068 0.09008235 0.46847606\n",
      "  0.99313043 0.93905815 0.69627313 0.83595337]]\n"
     ]
    }
   ],
   "source": [
    "#Ceros\n",
    "ceros = np.zeros((3,2))\n",
    "print(ceros)\n",
    "\n",
    "#Unos\n",
    "unos = np.ones((3,3))    \n",
    "print(unos)              \n",
    "\n",
    "#Contante\n",
    "const = np.full((3,3), 10)  \n",
    "print(const)    \n",
    "                     \n",
    "#Identidad\n",
    "identidad = np.eye(4)        \n",
    "print(identidad)              \n",
    "                     \n",
    "#Aleatorio\n",
    "aleatorio = np.random.random((5,10))  \n",
    "print(aleatorio)                     "
   ]
  },
  {
   "cell_type": "markdown",
   "metadata": {},
   "source": [
    "# Operaciones matemáticas\n",
    "Numpy también ofrece la opción de realizar operaciones matemáticas sobre operaciones. Algunas de estas operaciones son:\n",
    "- **Suma**: realiza la suma de dos vectores,  se puede usar tanto el operador '+' como la función `np.add(x, y`\n",
    "- **Resta**: realiza la resta de dos vectores, se puede usar tanto el operador '-' como la función `np.subtract(x, y`\n",
    "- **Multiplicación**: realiza la multiplicación de cada elemento **OJO!! NO el producto matricial**, se puede usar tanto el operador '*' como la función `np.multiply(x, y)`\n",
    "- **División**: realiza la división de cada elemento, se puede calcular tanto con el operador '/' como con la función `np.divide(x, y)`\n",
    "- **Producto matricial**: la realización del producto matricial se ppuede realizar con la función `np.dot(x, y)`\n",
    "- **Suma de los elementos**: se puede hacer la suma de los elementos de una matriz con la operacion `np.sum(x)`"
   ]
  },
  {
   "cell_type": "code",
   "execution_count": 4,
   "metadata": {},
   "outputs": [
    {
     "name": "stdout",
     "output_type": "stream",
     "text": [
      "[[2. 3.]\n",
      " [4. 5.]]\n",
      "[[2. 3.]\n",
      " [4. 5.]]\n"
     ]
    }
   ],
   "source": [
    "A = np.array([[1 , 2], [3, 4]])\n",
    "B = np.ones((2,2))\n",
    "\n",
    "#Suma\n",
    "print(A+B)\n",
    "print(np.add(A, B))"
   ]
  },
  {
   "cell_type": "code",
   "execution_count": 5,
   "metadata": {},
   "outputs": [
    {
     "name": "stdout",
     "output_type": "stream",
     "text": [
      "[[0. 1.]\n",
      " [2. 3.]]\n",
      "[[0. 1.]\n",
      " [2. 3.]]\n"
     ]
    }
   ],
   "source": [
    "#Resta\n",
    "print(A-B)\n",
    "print(np.subtract(A,B))"
   ]
  },
  {
   "cell_type": "code",
   "execution_count": 6,
   "metadata": {},
   "outputs": [
    {
     "name": "stdout",
     "output_type": "stream",
     "text": [
      "[[1. 2.]\n",
      " [3. 4.]]\n",
      "[[1. 2.]\n",
      " [3. 4.]]\n"
     ]
    }
   ],
   "source": [
    "#Multiplicación \n",
    "print(A*B)\n",
    "print(np.multiply(A, B))"
   ]
  },
  {
   "cell_type": "code",
   "execution_count": 7,
   "metadata": {},
   "outputs": [
    {
     "name": "stdout",
     "output_type": "stream",
     "text": [
      "[[1. 2.]\n",
      " [3. 4.]]\n",
      "[[1. 2.]\n",
      " [3. 4.]]\n"
     ]
    }
   ],
   "source": [
    "#División\n",
    "print(A/B)\n",
    "print(np.divide(A,B))"
   ]
  },
  {
   "cell_type": "code",
   "execution_count": 8,
   "metadata": {},
   "outputs": [
    {
     "name": "stdout",
     "output_type": "stream",
     "text": [
      "[[3. 3.]\n",
      " [7. 7.]]\n"
     ]
    }
   ],
   "source": [
    "#Producto Matricial\n",
    "print(np.dot(A,B))"
   ]
  },
  {
   "cell_type": "code",
   "execution_count": 9,
   "metadata": {},
   "outputs": [
    {
     "name": "stdout",
     "output_type": "stream",
     "text": [
      "10\n"
     ]
    }
   ],
   "source": [
    "#Suma de los elementos de la matriz\n",
    "print(np.sum(A))"
   ]
  }
 ],
 "metadata": {
  "kernelspec": {
   "display_name": "Python 3",
   "language": "python",
   "name": "python3"
  },
  "language_info": {
   "codemirror_mode": {
    "name": "ipython",
    "version": 3
   },
   "file_extension": ".py",
   "mimetype": "text/x-python",
   "name": "python",
   "nbconvert_exporter": "python",
   "pygments_lexer": "ipython3",
   "version": "3.6.9"
  }
 },
 "nbformat": 4,
 "nbformat_minor": 2
}
