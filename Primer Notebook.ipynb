{
 "cells": [
  {
   "cell_type": "markdown",
   "metadata": {},
   "source": [
    "# Primer *notebook*\n",
    "Este es un primer *notebook* de ejemplo, en el que explicaremos como usarlo. En primer lugar recuerda descargártelo en tu ordenador para poder modificarlo ;)\n",
    "\n",
    "## Primeros pasos\n",
    "En primer lugar vamos a explicar como poder descargarte este ejemplo y poder abrirlo en tu ordenador.\n",
    "\n",
    "### Descarga\n",
    "Desde la siguiente url https://github.com/itelligent-mrivas/introduccionPython/archive/master.zip puedes descargar los ficheros. Una vez lo tengas en tu ordenador podremos continuar con las modificaciones.\n",
    "\n",
    "### Abrir fichero en Jupyter\n",
    "1. Lanza Jupyter\n",
    "2. Desde la pantalla de Jupyter, navegar al directorio donde se ha descargado\n",
    "3. Pulsa sobre el fichero y este se abrirá\n",
    "\n",
    "Si quieres crear uno nuevo, tendrás que pulsar sobre *New* y a continuación seleccionar Python."
   ]
  },
  {
   "cell_type": "markdown",
   "metadata": {},
   "source": [
    "## Edítame\n",
    "Prueba a editar este bloque. Si haces doble click se te abrirá el modo editar. Prueba a modificar a tu gusto este texto.\n",
    "\n",
    "Una vez lo hayas editado, deberás ejecutarlo, lo puedes hacer de dos formas:\n",
    "1. Pulsando las teclas Ctrl + F5\n",
    "2. Seleccionando el icono de *Run*\n",
    "\n",
    "Todos los bloques, sean del tipo que sean, se peuden ejecutar de estas dos formas.\n",
    "\n",
    "Este Bloque es de tipo *Markdown*, es decir texto o documentación. Si quieres saber mas sobre la escirtura en *Markdown* lee el siguiente [tutorial](https://github.com/adam-p/markdown-here/wiki/Markdown-Cheatsheet)"
   ]
  },
  {
   "cell_type": "markdown",
   "metadata": {},
   "source": [
    "## Nuevo bloque\n",
    "Ahora vamos a crear un nuevo bloque. Para ello en el menú *Insert* podemos selccionar si queremos añadir un bloque arriba o debajo.\n",
    "Una vez hecho esto, se debe seleciconar el tipo de bloque. Vamos a usar dos tipos principales de bloques:\n",
    "- *Markdown* tipo ya visto de texto o documentación\n",
    "- *Code* en nuestro caso usaremos Python.\n",
    "\n",
    "Puede seleccionar el tipo de bloque en el desplegable del menú.\n",
    "\n",
    "**Prueba a crear un nuevo bloque de texto a continuación de este**\n"
   ]
  },
  {
   "cell_type": "markdown",
   "metadata": {},
   "source": [
    "## Código\n",
    "\n",
    "A continuación crearemos un bloque de código. En este bloque se muestra un pequeño ejemplo de una función que implementa la sucesión de Fibonacci de manera iterativa. \n",
    "\n",
    "Puedes modificar la llamda `Fib(10)` para obtener un mayor o menor número de elementos de la serie."
   ]
  },
  {
   "cell_type": "code",
   "execution_count": 3,
   "metadata": {},
   "outputs": [
    {
     "name": "stdout",
     "output_type": "stream",
     "text": [
      "0 \n",
      "1 \n",
      "1 \n",
      "2 \n",
      "3 \n",
      "5 \n",
      "8 \n"
     ]
    }
   ],
   "source": [
    "def fib(n):\n",
    "    a, b = 0, 1\n",
    "    while a < n:\n",
    "        print(a, end=' ')\n",
    "        a, b = b, a+b\n",
    "        print()\n",
    "        \n",
    "fib(10)"
   ]
  },
  {
   "cell_type": "markdown",
   "metadata": {},
   "source": [
    "## Te toca\n",
    "\n",
    "Siente libre de modificar y hacer todos los ejemplos que quieras sobre este cuaderno"
   ]
  }
 ],
 "metadata": {
  "kernelspec": {
   "display_name": "Python 3",
   "language": "python",
   "name": "python3"
  },
  "language_info": {
   "codemirror_mode": {
    "name": "ipython",
    "version": 3
   },
   "file_extension": ".py",
   "mimetype": "text/x-python",
   "name": "python",
   "nbconvert_exporter": "python",
   "pygments_lexer": "ipython3",
   "version": "3.6.9"
  }
 },
 "nbformat": 4,
 "nbformat_minor": 2
}
