{
 "cells": [
  {
   "cell_type": "markdown",
   "metadata": {},
   "source": [
    "# Introducción a ScyPy\n",
    "A continuación veremos algunos ejemplos de uso de ScyPy. Esta biblioteca permite el trabajo en múltiples tareas relacionadas con distancias, optimización, imágenes, álgebra, etc...\n",
    "\n",
    "## Distancias\n",
    "En primer lugar vamos a realizar un ejemplo de trabajo con distancias. Gracias a ScyPy es posible el cálculo de múltiples tipos de distancias.\n",
    "\n",
    "A continuación se muestra como realizar el cálculo de la distancia euclidea, para ello usamos la función `scipy.spatial.distance.pdist`, ademas esta la complementamos con la función `squareform` la cual convierte el vector de distancia a formato matricial."
   ]
  },
  {
   "cell_type": "code",
   "execution_count": 1,
   "metadata": {},
   "outputs": [
    {
     "name": "stdout",
     "output_type": "stream",
     "text": [
      "[[0 1]\n",
      " [1 0]\n",
      " [1 1]]\n",
      "[[0.         1.41421356 1.        ]\n",
      " [1.41421356 0.         1.        ]\n",
      " [1.         1.         0.        ]]\n"
     ]
    }
   ],
   "source": [
    "import numpy as np\n",
    "from scipy.spatial.distance import pdist, squareform\n",
    "\n",
    "x = np.array([[0, 1], [1, 0], [1, 1]])\n",
    "print(x)\n",
    "\n",
    "dEuclidea =squareform(pdist(x, 'euclidean'))\n",
    "print(dEuclidea)"
   ]
  },
  {
   "cell_type": "markdown",
   "metadata": {},
   "source": [
    "También podemos calcular la distancia coseno."
   ]
  },
  {
   "cell_type": "code",
   "execution_count": 2,
   "metadata": {},
   "outputs": [
    {
     "name": "stdout",
     "output_type": "stream",
     "text": [
      "[[0.         1.         0.29289322]\n",
      " [1.         0.         0.29289322]\n",
      " [0.29289322 0.29289322 0.        ]]\n"
     ]
    }
   ],
   "source": [
    "\n",
    "dCoseno = squareform(pdist(x, 'cosine'))\n",
    "print(dCoseno)"
   ]
  },
  {
   "cell_type": "markdown",
   "metadata": {},
   "source": [
    "Ademas de estas dos distancias se pueden calcular muchas otras distancias, puedes ver todas las posibilidades en el siguiente [link](https://cs231n.github.io/python-numpy-tutorial/#scipy).\n",
    "\n",
    "También es posible obtener las distancias entre dos conjunos de datos, para ello podemos usar la función `scipy.spatial.distance.cdist`."
   ]
  },
  {
   "cell_type": "code",
   "execution_count": 3,
   "metadata": {},
   "outputs": [
    {
     "name": "stdout",
     "output_type": "stream",
     "text": [
      "[[1. 3. 1.]\n",
      " [1. 1. 1.]\n",
      " [2. 2. 0.]]\n"
     ]
    }
   ],
   "source": [
    "from scipy.spatial.distance import cdist\n",
    "\n",
    "x = np.array([[0, 1], [1, 0], [1, 1]])\n",
    "y = np.array([[0, 0], [2, 0], [1, 1]])\n",
    "dManhattan = cdist(x, y, 'cityblock')\n",
    "\n",
    "print(dManhattan)"
   ]
  },
  {
   "cell_type": "markdown",
   "metadata": {},
   "source": [
    "Al igual que con `dist` existen otras muchas distancias, que puedes cosnultar en el siguiente [link](https://docs.scipy.org/doc/scipy/reference/generated/scipy.spatial.distance.cdist.html)"
   ]
  },
  {
   "cell_type": "markdown",
   "metadata": {},
   "source": [
    "## Optimización\n",
    "Esta biblioteca contiene una gran cantidad de implementaciones de metodos para optimización, puedes encontrar mas información en el siguiente [link](https://docs.scipy.org/doc/scipy/reference/optimize.html).\n",
    "\n",
    "A continuación vamos a mostrar un ejemplo en el que se desea obtener el punto mínimo de una curva. Esta tarea se puede realizar de manera analítica si la función es derivable, pero en muchos problemas de la vida real esto no es posible, por lo que es encesario este tipo de técnicas.\n",
    "\n",
    "En este ejemplo vamos a usar la técnica de gradiente descendente, la cual es de uso común en el entrenamiento de redes neuronales. Para este ejemplo vamos a buscar el mínimo global de la función de Rosenbrock."
   ]
  },
  {
   "cell_type": "code",
   "execution_count": 4,
   "metadata": {},
   "outputs": [
    {
     "data": {
      "text/plain": [
       "     fun: 1.6503729082243953e-11\n",
       "     jac: array([-6.15347610e-06,  2.53804028e-07])\n",
       " message: 'Optimization terminated successfully.'\n",
       "    nfev: 108\n",
       "     nit: 13\n",
       "    njev: 27\n",
       "  status: 0\n",
       " success: True\n",
       "       x: array([0.99999426, 0.99998863])"
      ]
     },
     "execution_count": 4,
     "metadata": {},
     "output_type": "execute_result"
    }
   ],
   "source": [
    "from scipy import optimize\n",
    "\n",
    "#Funcion de Rosenbrock\n",
    "def f(x):   \n",
    "    return .5*(1 - x[0])**2 + (x[1] - x[0]**2)**2\n",
    "\n",
    "optimize.minimize(f, [2, -1], method=\"CG\")"
   ]
  },
  {
   "cell_type": "markdown",
   "metadata": {},
   "source": [
    "### Estimar funciones\n",
    "Tambien podemos estimar una función a partir de una serie de puntos, como haremos en siguiente ejemplo. \n",
    "\n",
    "Antes de comenzar vamos a instalar el paquete `matplotlib` para la visualización de gráficos."
   ]
  },
  {
   "cell_type": "code",
   "execution_count": 5,
   "metadata": {},
   "outputs": [
    {
     "name": "stdout",
     "output_type": "stream",
     "text": [
      "Collecting package metadata (current_repodata.json): done\n",
      "Solving environment: done\n",
      "\n",
      "## Package Plan ##\n",
      "\n",
      "  environment location: /Users/Mario/anaconda\n",
      "\n",
      "  added / updated specs:\n",
      "    - matplotlib\n",
      "\n",
      "\n",
      "The following packages will be UPDATED:\n",
      "\n",
      "  ca-certificates                              2019.10.16-0 --> 2020.6.24-0\n",
      "  conda                                       4.7.12-py27_0 --> 4.8.4-py27_0\n",
      "  openssl                                 1.1.1d-h1de35cc_3 --> 1.1.1g-h1de35cc_0\n",
      "\n",
      "\n",
      "Preparing transaction: done\n",
      "Verifying transaction: done\n",
      "Executing transaction: done\n",
      "ERROR conda.core.link:_execute(700): An error occurred while uninstalling package 'defaults::conda-4.7.12-py27_0'.\n",
      "Rolling back transaction: done\n",
      "\n",
      "CondaMultiError: [Errno 13] Permission denied\n",
      "()\n",
      "\n"
     ]
    }
   ],
   "source": [
    "import sys\n",
    "!conda install --yes --prefix {sys.prefix} matplotlib"
   ]
  },
  {
   "cell_type": "markdown",
   "metadata": {},
   "source": [
    "Una vez tenemos todo lo necesario vamos a resolver el problema de estimar una función a partir de una serie de puntos. Para ello los pasos serán:\n",
    "1. Generar la función a estimar\n",
    "2. Generar los puntos y añadirle ruido\n",
    "3. Estimar la función\n",
    "4. Pintaremos los resultados\n",
    "\n",
    "#### Función a estimar\n",
    "A continaución definimos una función con tres parámetros que será la que usaremos como test"
   ]
  },
  {
   "cell_type": "code",
   "execution_count": 30,
   "metadata": {},
   "outputs": [],
   "source": [
    "def f(x, y, z):\n",
    "    return np.sin(x * y + z)"
   ]
  },
  {
   "cell_type": "markdown",
   "metadata": {},
   "source": [
    "#### Generación de los puntos\n",
    "Vamos a generar 50 puntos distribuidos a la misma distancia entre los valores de 0 y 3, para posteriormente evaluarlos con la función y añadirle ruido."
   ]
  },
  {
   "cell_type": "code",
   "execution_count": 31,
   "metadata": {},
   "outputs": [],
   "source": [
    "np.random.seed(0)\n",
    "\n",
    "#X 50 puntos entres 0 y 3 con separación uniforme\n",
    "x = np.linspace(0, 3, 50)\n",
    "#Y evaluamos los datos y le añadimso ruido normal\n",
    "y = f(x, 1.5, 1) + .1*np.random.normal(size=50)"
   ]
  },
  {
   "cell_type": "markdown",
   "metadata": {},
   "source": [
    "#### Estimar la función\n",
    "A cotinuación vamos a buscar la función que mejor se \"adapta\" a los puntos que hemos generado"
   ]
  },
  {
   "cell_type": "code",
   "execution_count": 37,
   "metadata": {},
   "outputs": [
    {
     "name": "stdout",
     "output_type": "stream",
     "text": [
      "[1.44874636 1.06514835]\n"
     ]
    }
   ],
   "source": [
    "params, params_cov = optimize.curve_fit(f, x, y)\n",
    "print params"
   ]
  },
  {
   "cell_type": "markdown",
   "metadata": {},
   "source": [
    "Como podemos observar los parametros son muy cercanos al 1,5 y 1 que pasamos al generar los datos.\n",
    "\n",
    "### Resultados\n",
    "\n",
    "A continuación vamos a pintar los puntos generados (cruz azul) y la curva estimada (linea roja), pudiendose obsevar el buen ajuste de esta a los puntos"
   ]
  },
  {
   "cell_type": "code",
   "execution_count": 33,
   "metadata": {},
   "outputs": [
    {
     "data": {
      "image/png": "[encoded data removed]",
      "text/plain": [
       "<Figure size 432x288 with 1 Axes>"
      ]
     },
     "metadata": {
      "needs_background": "light"
     },
     "output_type": "display_data"
    }
   ],
   "source": [
    "import matplotlib.pyplot as plt\n",
    "\n",
    "\n",
    "# plot the data and the fitted curve\n",
    "t = np.linspace(0, 3, 1000)\n",
    "\n",
    "plt.figure(1)\n",
    "plt.clf()\n",
    "plt.plot(x, y, 'bx')\n",
    "plt.plot(t, f(t, *params), 'r-')\n",
    "plt.show()\n"
   ]
  }
 ],
 "metadata": {
  "kernelspec": {
   "display_name": "Python 2",
   "language": "python",
   "name": "python2"
  },
  "language_info": {
   "codemirror_mode": {
    "name": "ipython",
    "version": 2
   },
   "file_extension": ".py",
   "mimetype": "text/x-python",
   "name": "python",
   "nbconvert_exporter": "python",
   "pygments_lexer": "ipython2",
   "version": "2.7.16"
  }
 },
 "nbformat": 4,
 "nbformat_minor": 2
}
